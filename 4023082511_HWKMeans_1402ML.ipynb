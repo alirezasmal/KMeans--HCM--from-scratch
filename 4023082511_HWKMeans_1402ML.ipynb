{
 "cells": [
  {
   "cell_type": "markdown",
   "metadata": {},
   "source": [
    "# Kmeans Clustering implementation from scratch\n",
    "# author: Alireza Meydani / Me ofcourse :D\n",
    "# Std no: 4023082511\n"
   ]
  },
  {
   "cell_type": "code",
   "execution_count": 87,
   "metadata": {},
   "outputs": [],
   "source": [
    "import numpy as np\n",
    "import pandas as pd"
   ]
  },
  {
   "cell_type": "code",
   "execution_count": 88,
   "metadata": {},
   "outputs": [],
   "source": [
    "def k_means(X, k, max_iters=100):\n",
    "    '''\n",
    "    takes the data in form of numpy representation of\n",
    "    (preferebly pandas,) your dataframe and \n",
    "    amount of clusters that you want, then starts\n",
    "    the clustering process and gives two argument;\n",
    "    declared labels, and final position / state of\n",
    "    centroids.\n",
    "    '''\n",
    "    centroids = X[np.random.choice(X.shape[0], k, replace=False)]\n",
    "\n",
    "    for _ in range(max_iters):\n",
    "        distances = np.linalg.norm(X[:, np.newaxis] - centroids, axis=2)\n",
    "        labels = np.argmin(distances, axis=1)\n",
    "        new_centroids = np.array([X[labels == i].mean(axis=0) for i in range(k)])\n",
    "\n",
    "        if np.all(centroids == new_centroids):\n",
    "            break\n",
    "\n",
    "        centroids = new_centroids\n",
    "\n",
    "    return labels, centroids"
   ]
  },
  {
   "cell_type": "code",
   "execution_count": 89,
   "metadata": {},
   "outputs": [],
   "source": [
    "def categorical_to_numerical(df):\n",
    "    '''\n",
    "    First makes sure that all columns are in\n",
    "    form of category, then changes/converts them\n",
    "    into numerical (int-8) data types based on \n",
    "    different categories that one column can be\n",
    "    '''\n",
    "    for col in df.columns:\n",
    "        # print(col)\n",
    "        df[col] = df[col].astype(\"category\")\n",
    "        df[col] = pd.Categorical(df[col]).codes\n",
    "\n",
    "def get_accuracy(y_predicted,y_true):\n",
    "    acc = np.sum(y_true==y_predicted)/len(y_true)*100\n",
    "    return acc\n",
    "def get_confusion_matrix(y_test , y_pred):\n",
    "    assert_mat = (y_test == y_pred)\n",
    "    tp,tn,fp,fn=np.zeros(4)\n",
    "    for idx, val in enumerate(assert_mat):\n",
    "        if val :\n",
    "            if y_pred[idx]:\n",
    "                tp+=1\n",
    "                continue\n",
    "            tn+=1\n",
    "            continue\n",
    "        if y_pred[idx]:\n",
    "            fp+=1\n",
    "            continue\n",
    "        fn+=1\n",
    "    return np.array((tp,fp,fn,tn))\n",
    "    "
   ]
  },
  {
   "cell_type": "markdown",
   "metadata": {},
   "source": [
    "\n",
    "## Load dataset from CSV and data transformation\n",
    "### and Cleanup process..."
   ]
  },
  {
   "cell_type": "code",
   "execution_count": 90,
   "metadata": {},
   "outputs": [],
   "source": [
    "\n",
    "df = pd.read_csv(\"./share/BCD/Breast_Cancer_dataset.csv\")\n",
    "categorical_to_numerical(df)\n",
    "actual_results = df[\"Class\"]\n",
    "df = df.drop(columns=\"Class\")\n",
    "# df= df.head(50)\n",
    "# numpy Representation of df\n",
    "X = df.values\n",
    "\n",
    "\n",
    "# Add cluster labels to the DataFrame\n",
    "\n"
   ]
  },
  {
   "cell_type": "markdown",
   "metadata": {},
   "source": [
    "# Perform k-means clustering"
   ]
  },
  {
   "cell_type": "code",
   "execution_count": 91,
   "metadata": {},
   "outputs": [],
   "source": [
    "\n",
    "# the number of clusters (k) / declared Centroids\n",
    "k = 2\n",
    "\n",
    "labels, centroids = k_means(X, k,200)\n",
    "df[\"Cluster\"] = labels\n"
   ]
  },
  {
   "cell_type": "markdown",
   "metadata": {},
   "source": [
    "### The Results:"
   ]
  },
  {
   "cell_type": "code",
   "execution_count": 92,
   "metadata": {},
   "outputs": [
    {
     "name": "stdout",
     "output_type": "stream",
     "text": [
      "Centroids:\n",
      " [[2.66842105 1.11052632 3.25263158 0.04210526 0.08421053 0.93684211\n",
      "  0.45263158 1.75789474 0.13157895]\n",
      " [2.65625    1.         5.66666667 3.11458333 0.58333333 1.27083333\n",
      "  0.5        1.86458333 0.44791667]]\n"
     ]
    }
   ],
   "source": [
    "print(\"Centroids:\\n\", centroids)\n",
    "\n"
   ]
  },
  {
   "cell_type": "code",
   "execution_count": 93,
   "metadata": {},
   "outputs": [
    {
     "name": "stdout",
     "output_type": "stream",
     "text": [
      "Updated DataFrame with Cluster labels:\n",
      "\n"
     ]
    },
    {
     "data": {
      "text/html": [
       "<div>\n",
       "<style scoped>\n",
       "    .dataframe tbody tr th:only-of-type {\n",
       "        vertical-align: middle;\n",
       "    }\n",
       "\n",
       "    .dataframe tbody tr th {\n",
       "        vertical-align: top;\n",
       "    }\n",
       "\n",
       "    .dataframe thead th {\n",
       "        text-align: right;\n",
       "    }\n",
       "</style>\n",
       "<table border=\"1\" class=\"dataframe\">\n",
       "  <thead>\n",
       "    <tr style=\"text-align: right;\">\n",
       "      <th></th>\n",
       "      <th>age</th>\n",
       "      <th>menopause</th>\n",
       "      <th>tumor-size</th>\n",
       "      <th>inv-nodes</th>\n",
       "      <th>node-caps</th>\n",
       "      <th>deg-malig</th>\n",
       "      <th>breast</th>\n",
       "      <th>breast-quad</th>\n",
       "      <th>irradiat</th>\n",
       "      <th>Cluster</th>\n",
       "    </tr>\n",
       "  </thead>\n",
       "  <tbody>\n",
       "    <tr>\n",
       "      <th>0</th>\n",
       "      <td>2</td>\n",
       "      <td>2</td>\n",
       "      <td>2</td>\n",
       "      <td>0</td>\n",
       "      <td>1</td>\n",
       "      <td>2</td>\n",
       "      <td>1</td>\n",
       "      <td>2</td>\n",
       "      <td>0</td>\n",
       "      <td>0</td>\n",
       "    </tr>\n",
       "    <tr>\n",
       "      <th>1</th>\n",
       "      <td>3</td>\n",
       "      <td>0</td>\n",
       "      <td>2</td>\n",
       "      <td>0</td>\n",
       "      <td>0</td>\n",
       "      <td>0</td>\n",
       "      <td>1</td>\n",
       "      <td>0</td>\n",
       "      <td>0</td>\n",
       "      <td>0</td>\n",
       "    </tr>\n",
       "    <tr>\n",
       "      <th>2</th>\n",
       "      <td>3</td>\n",
       "      <td>0</td>\n",
       "      <td>6</td>\n",
       "      <td>0</td>\n",
       "      <td>0</td>\n",
       "      <td>1</td>\n",
       "      <td>0</td>\n",
       "      <td>1</td>\n",
       "      <td>0</td>\n",
       "      <td>0</td>\n",
       "    </tr>\n",
       "    <tr>\n",
       "      <th>3</th>\n",
       "      <td>2</td>\n",
       "      <td>2</td>\n",
       "      <td>6</td>\n",
       "      <td>0</td>\n",
       "      <td>1</td>\n",
       "      <td>2</td>\n",
       "      <td>1</td>\n",
       "      <td>1</td>\n",
       "      <td>1</td>\n",
       "      <td>0</td>\n",
       "    </tr>\n",
       "    <tr>\n",
       "      <th>4</th>\n",
       "      <td>2</td>\n",
       "      <td>2</td>\n",
       "      <td>5</td>\n",
       "      <td>4</td>\n",
       "      <td>1</td>\n",
       "      <td>1</td>\n",
       "      <td>0</td>\n",
       "      <td>4</td>\n",
       "      <td>0</td>\n",
       "      <td>1</td>\n",
       "    </tr>\n",
       "    <tr>\n",
       "      <th>...</th>\n",
       "      <td>...</td>\n",
       "      <td>...</td>\n",
       "      <td>...</td>\n",
       "      <td>...</td>\n",
       "      <td>...</td>\n",
       "      <td>...</td>\n",
       "      <td>...</td>\n",
       "      <td>...</td>\n",
       "      <td>...</td>\n",
       "      <td>...</td>\n",
       "    </tr>\n",
       "    <tr>\n",
       "      <th>281</th>\n",
       "      <td>3</td>\n",
       "      <td>0</td>\n",
       "      <td>5</td>\n",
       "      <td>5</td>\n",
       "      <td>1</td>\n",
       "      <td>1</td>\n",
       "      <td>0</td>\n",
       "      <td>1</td>\n",
       "      <td>0</td>\n",
       "      <td>1</td>\n",
       "    </tr>\n",
       "    <tr>\n",
       "      <th>282</th>\n",
       "      <td>3</td>\n",
       "      <td>2</td>\n",
       "      <td>4</td>\n",
       "      <td>4</td>\n",
       "      <td>1</td>\n",
       "      <td>1</td>\n",
       "      <td>0</td>\n",
       "      <td>1</td>\n",
       "      <td>1</td>\n",
       "      <td>1</td>\n",
       "    </tr>\n",
       "    <tr>\n",
       "      <th>283</th>\n",
       "      <td>1</td>\n",
       "      <td>2</td>\n",
       "      <td>5</td>\n",
       "      <td>5</td>\n",
       "      <td>1</td>\n",
       "      <td>1</td>\n",
       "      <td>1</td>\n",
       "      <td>4</td>\n",
       "      <td>0</td>\n",
       "      <td>1</td>\n",
       "    </tr>\n",
       "    <tr>\n",
       "      <th>284</th>\n",
       "      <td>3</td>\n",
       "      <td>2</td>\n",
       "      <td>2</td>\n",
       "      <td>0</td>\n",
       "      <td>0</td>\n",
       "      <td>1</td>\n",
       "      <td>1</td>\n",
       "      <td>1</td>\n",
       "      <td>0</td>\n",
       "      <td>0</td>\n",
       "    </tr>\n",
       "    <tr>\n",
       "      <th>285</th>\n",
       "      <td>3</td>\n",
       "      <td>0</td>\n",
       "      <td>7</td>\n",
       "      <td>0</td>\n",
       "      <td>0</td>\n",
       "      <td>2</td>\n",
       "      <td>0</td>\n",
       "      <td>4</td>\n",
       "      <td>0</td>\n",
       "      <td>1</td>\n",
       "    </tr>\n",
       "  </tbody>\n",
       "</table>\n",
       "<p>286 rows × 10 columns</p>\n",
       "</div>"
      ],
      "text/plain": [
       "     age  menopause  tumor-size  inv-nodes  node-caps  deg-malig  breast  \\\n",
       "0      2          2           2          0          1          2       1   \n",
       "1      3          0           2          0          0          0       1   \n",
       "2      3          0           6          0          0          1       0   \n",
       "3      2          2           6          0          1          2       1   \n",
       "4      2          2           5          4          1          1       0   \n",
       "..   ...        ...         ...        ...        ...        ...     ...   \n",
       "281    3          0           5          5          1          1       0   \n",
       "282    3          2           4          4          1          1       0   \n",
       "283    1          2           5          5          1          1       1   \n",
       "284    3          2           2          0          0          1       1   \n",
       "285    3          0           7          0          0          2       0   \n",
       "\n",
       "     breast-quad  irradiat  Cluster  \n",
       "0              2         0        0  \n",
       "1              0         0        0  \n",
       "2              1         0        0  \n",
       "3              1         1        0  \n",
       "4              4         0        1  \n",
       "..           ...       ...      ...  \n",
       "281            1         0        1  \n",
       "282            1         1        1  \n",
       "283            4         0        1  \n",
       "284            1         0        0  \n",
       "285            4         0        1  \n",
       "\n",
       "[286 rows x 10 columns]"
      ]
     },
     "execution_count": 93,
     "metadata": {},
     "output_type": "execute_result"
    }
   ],
   "source": [
    "print(\"Updated DataFrame with Cluster labels:\\n\")\n",
    "df"
   ]
  },
  {
   "cell_type": "markdown",
   "metadata": {},
   "source": [
    "# confusion_matrix"
   ]
  },
  {
   "cell_type": "code",
   "execution_count": 94,
   "metadata": {},
   "outputs": [
    {
     "data": {
      "text/plain": [
       "array([[ 43.,  53.],\n",
       "       [ 42., 148.]])"
      ]
     },
     "execution_count": 94,
     "metadata": {},
     "output_type": "execute_result"
    }
   ],
   "source": [
    "tp,fp,fn,tn=get_confusion_matrix(actual_results,df[\"Cluster\"])\n",
    "get_confusion_matrix(actual_results,df[\"Cluster\"]).reshape(2,2)"
   ]
  },
  {
   "cell_type": "markdown",
   "metadata": {},
   "source": [
    "## Error, Recall , Precision"
   ]
  },
  {
   "cell_type": "code",
   "execution_count": 95,
   "metadata": {},
   "outputs": [
    {
     "name": "stdout",
     "output_type": "stream",
     "text": [
      "Current Accuracy:\n",
      "\t%66.78321678321679\n",
      "Error ratio:\n",
      "\t%33.21678321678321\n",
      "Recall:\n",
      "\t%50.588235294117645\n",
      "Precision:\n",
      "\t%44.79166666666667\n"
     ]
    }
   ],
   "source": [
    "accuracy=get_accuracy(df[\"Cluster\"],actual_results)\n",
    "error = 100 - accuracy\n",
    "recall = tp/(tp+fn)*100\n",
    "precision = tp/(tp+fp)*100\n",
    "print(f\"Current Accuracy:\\n\\t%{accuracy}\")\n",
    "# 1 - Accuracy``\n",
    "print(f\"Error ratio:\\n\\t%{error}\")\n",
    "# sensitivity out of real cases\n",
    "print(f\"Recall:\\n\\t%{recall}\")\n",
    "# out of all predictions\n",
    "print(f\"Precision:\\n\\t%{precision}\")"
   ]
  }
 ],
 "metadata": {
  "kernelspec": {
   "display_name": "venv",
   "language": "python",
   "name": "python3"
  },
  "language_info": {
   "codemirror_mode": {
    "name": "ipython",
    "version": 3
   },
   "file_extension": ".py",
   "mimetype": "text/x-python",
   "name": "python",
   "nbconvert_exporter": "python",
   "pygments_lexer": "ipython3",
   "version": "3.9.5"
  }
 },
 "nbformat": 4,
 "nbformat_minor": 2
}
